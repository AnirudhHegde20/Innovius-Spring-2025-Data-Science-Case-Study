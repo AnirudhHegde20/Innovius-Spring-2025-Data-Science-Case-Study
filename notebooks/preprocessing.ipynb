{
 "cells": [
  {
   "cell_type": "markdown",
   "metadata": {},
   "source": [
    "# Innovius Spring 2025 Data Science Co-op Case 1"
   ]
  },
  {
   "cell_type": "markdown",
   "metadata": {},
   "source": []
  },
  {
   "cell_type": "code",
   "execution_count": null,
   "metadata": {},
   "outputs": [],
   "source": []
  },
  {
   "cell_type": "markdown",
   "metadata": {},
   "source": [
    "### Importing Necessary Libraries"
   ]
  },
  {
   "cell_type": "code",
   "execution_count": 19,
   "metadata": {},
   "outputs": [],
   "source": [
    "import pandas as pd\n",
    "import re\n",
    "import spacy\n"
   ]
  },
  {
   "cell_type": "code",
   "execution_count": 5,
   "metadata": {},
   "outputs": [],
   "source": [
    "df = pd.read_excel('innovius_case_study_data.xlsx')"
   ]
  },
  {
   "cell_type": "code",
   "execution_count": 6,
   "metadata": {},
   "outputs": [
    {
     "data": {
      "text/html": [
       "<div>\n",
       "<style scoped>\n",
       "    .dataframe tbody tr th:only-of-type {\n",
       "        vertical-align: middle;\n",
       "    }\n",
       "\n",
       "    .dataframe tbody tr th {\n",
       "        vertical-align: top;\n",
       "    }\n",
       "\n",
       "    .dataframe thead th {\n",
       "        text-align: right;\n",
       "    }\n",
       "</style>\n",
       "<table border=\"1\" class=\"dataframe\">\n",
       "  <thead>\n",
       "    <tr style=\"text-align: right;\">\n",
       "      <th></th>\n",
       "      <th>Name</th>\n",
       "      <th>Website</th>\n",
       "      <th>Organization Id</th>\n",
       "      <th>Top Level Category</th>\n",
       "      <th>Secondary Category</th>\n",
       "      <th>Employee Count</th>\n",
       "      <th>Description</th>\n",
       "      <th>Sourcscrub Description</th>\n",
       "      <th>Description.1</th>\n",
       "    </tr>\n",
       "  </thead>\n",
       "  <tbody>\n",
       "    <tr>\n",
       "      <th>0</th>\n",
       "      <td>ClosingLock</td>\n",
       "      <td>closinglock.com</td>\n",
       "      <td>223865172</td>\n",
       "      <td>NaN</td>\n",
       "      <td>NaN</td>\n",
       "      <td>21</td>\n",
       "      <td>Closinglock is a company that provides wire tr...</td>\n",
       "      <td>NaN</td>\n",
       "      <td>Real Estate Wire Fraud Prevention Solution</td>\n",
       "    </tr>\n",
       "    <tr>\n",
       "      <th>1</th>\n",
       "      <td>Daloopa, Inc.</td>\n",
       "      <td>daloopa.com</td>\n",
       "      <td>284044302</td>\n",
       "      <td>IT Management</td>\n",
       "      <td>Data Extraction</td>\n",
       "      <td>226</td>\n",
       "      <td>Discover how the power of over 100 AI algorith...</td>\n",
       "      <td>Daloopa, Inc. is the only AI solution for inve...</td>\n",
       "      <td>AI-driven enterprise data that can be trusted</td>\n",
       "    </tr>\n",
       "    <tr>\n",
       "      <th>2</th>\n",
       "      <td>Daloopa, Inc.</td>\n",
       "      <td>daloopa.com</td>\n",
       "      <td>284044302</td>\n",
       "      <td>IT Management</td>\n",
       "      <td>Data Extraction</td>\n",
       "      <td>226</td>\n",
       "      <td>Discover how the power of over 100 AI algorith...</td>\n",
       "      <td>Daloopa, Inc. is the only AI solution for inve...</td>\n",
       "      <td>AI-driven enterprise data that can be trusted</td>\n",
       "    </tr>\n",
       "    <tr>\n",
       "      <th>3</th>\n",
       "      <td>UpSmith</td>\n",
       "      <td>upsmith.com</td>\n",
       "      <td>283999461</td>\n",
       "      <td>NaN</td>\n",
       "      <td>NaN</td>\n",
       "      <td>11</td>\n",
       "      <td>Transforming the future of work.</td>\n",
       "      <td>UpSmith, Inc. is a provider of a skilled labor...</td>\n",
       "      <td>Significantly enhancing lives by giving people...</td>\n",
       "    </tr>\n",
       "    <tr>\n",
       "      <th>4</th>\n",
       "      <td>Equal Ventures</td>\n",
       "      <td>equal.vc</td>\n",
       "      <td>160422940</td>\n",
       "      <td>NaN</td>\n",
       "      <td>NaN</td>\n",
       "      <td>5</td>\n",
       "      <td>Equal Ventures is a venture capital firm that ...</td>\n",
       "      <td>NaN</td>\n",
       "      <td>NaN</td>\n",
       "    </tr>\n",
       "  </tbody>\n",
       "</table>\n",
       "</div>"
      ],
      "text/plain": [
       "             Name          Website  Organization Id Top Level Category  \\\n",
       "0     ClosingLock  closinglock.com        223865172                NaN   \n",
       "1   Daloopa, Inc.      daloopa.com        284044302      IT Management   \n",
       "2   Daloopa, Inc.      daloopa.com        284044302      IT Management   \n",
       "3         UpSmith      upsmith.com        283999461                NaN   \n",
       "4  Equal Ventures         equal.vc        160422940                NaN   \n",
       "\n",
       "  Secondary Category  Employee Count  \\\n",
       "0                NaN              21   \n",
       "1    Data Extraction             226   \n",
       "2    Data Extraction             226   \n",
       "3                NaN              11   \n",
       "4                NaN               5   \n",
       "\n",
       "                                         Description  \\\n",
       "0  Closinglock is a company that provides wire tr...   \n",
       "1  Discover how the power of over 100 AI algorith...   \n",
       "2  Discover how the power of over 100 AI algorith...   \n",
       "3                   Transforming the future of work.   \n",
       "4  Equal Ventures is a venture capital firm that ...   \n",
       "\n",
       "                              Sourcscrub Description  \\\n",
       "0                                                NaN   \n",
       "1  Daloopa, Inc. is the only AI solution for inve...   \n",
       "2  Daloopa, Inc. is the only AI solution for inve...   \n",
       "3  UpSmith, Inc. is a provider of a skilled labor...   \n",
       "4                                                NaN   \n",
       "\n",
       "                                       Description.1  \n",
       "0         Real Estate Wire Fraud Prevention Solution  \n",
       "1      AI-driven enterprise data that can be trusted  \n",
       "2      AI-driven enterprise data that can be trusted  \n",
       "3  Significantly enhancing lives by giving people...  \n",
       "4                                                NaN  "
      ]
     },
     "execution_count": 6,
     "metadata": {},
     "output_type": "execute_result"
    }
   ],
   "source": [
    "df.head()"
   ]
  },
  {
   "cell_type": "code",
   "execution_count": 7,
   "metadata": {},
   "outputs": [
    {
     "name": "stdout",
     "output_type": "stream",
     "text": [
      "<class 'pandas.core.frame.DataFrame'>\n",
      "RangeIndex: 56376 entries, 0 to 56375\n",
      "Data columns (total 9 columns):\n",
      " #   Column                  Non-Null Count  Dtype \n",
      "---  ------                  --------------  ----- \n",
      " 0   Name                    56376 non-null  object\n",
      " 1   Website                 56376 non-null  object\n",
      " 2   Organization Id         56376 non-null  int64 \n",
      " 3   Top Level Category      51602 non-null  object\n",
      " 4   Secondary Category      51602 non-null  object\n",
      " 5   Employee Count          56376 non-null  int64 \n",
      " 6   Description             55138 non-null  object\n",
      " 7   Sourcscrub Description  56073 non-null  object\n",
      " 8   Description.1           39389 non-null  object\n",
      "dtypes: int64(2), object(7)\n",
      "memory usage: 3.9+ MB\n"
     ]
    }
   ],
   "source": [
    "df.info()"
   ]
  },
  {
   "cell_type": "code",
   "execution_count": 11,
   "metadata": {},
   "outputs": [
    {
     "name": "stdout",
     "output_type": "stream",
     "text": [
      "Column-wise null value counts:\n",
      "Name                          0\n",
      "Website                       0\n",
      "Organization Id               0\n",
      "Top Level Category         4774\n",
      "Secondary Category         4774\n",
      "Employee Count                0\n",
      "Description                   0\n",
      "Sourcscrub Description      303\n",
      "Description.1             16987\n",
      "dtype: int64\n"
     ]
    }
   ],
   "source": [
    "# checking for null values\n",
    "null_counts = df.isnull().sum()\n",
    "\n",
    "print(\"Column-wise null value counts:\")\n",
    "print(null_counts)"
   ]
  },
  {
   "cell_type": "code",
   "execution_count": 10,
   "metadata": {},
   "outputs": [
    {
     "name": "stderr",
     "output_type": "stream",
     "text": [
      "/var/folders/wj/lvd1hjrx0vqf2hzhdxhvbz580000gn/T/ipykernel_48814/1790542951.py:1: FutureWarning: A value is trying to be set on a copy of a DataFrame or Series through chained assignment using an inplace method.\n",
      "The behavior will change in pandas 3.0. This inplace method will never work because the intermediate object on which we are setting values always behaves as a copy.\n",
      "\n",
      "For example, when doing 'df[col].method(value, inplace=True)', try using 'df.method({col: value}, inplace=True)' or df[col] = df[col].method(value) instead, to perform the operation inplace on the original object.\n",
      "\n",
      "\n",
      "  df['Description'].fillna('Unknown', inplace=True)\n"
     ]
    }
   ],
   "source": [
    "df['Description'].fillna('Unknown', inplace=True)"
   ]
  },
  {
   "cell_type": "code",
   "execution_count": 14,
   "metadata": {},
   "outputs": [],
   "source": [
    "# text cleaning\n",
    "\n",
    "df['cleaned_description'] = df['Description'].apply(lambda x: re.sub(r'[^a-zA-Z\\s]', '', str(x)).lower().strip())\n"
   ]
  },
  {
   "cell_type": "code",
   "execution_count": 21,
   "metadata": {},
   "outputs": [],
   "source": [
    "nlp = spacy.load(\"en_core_web_sm\")\n",
    "df['lemmatized_description'] = df['cleaned_description'].apply(lambda x: \" \".join([token.lemma_ for token in nlp(x)]))"
   ]
  },
  {
   "cell_type": "code",
   "execution_count": null,
   "metadata": {},
   "outputs": [],
   "source": []
  },
  {
   "cell_type": "code",
   "execution_count": null,
   "metadata": {},
   "outputs": [],
   "source": []
  },
  {
   "cell_type": "code",
   "execution_count": null,
   "metadata": {},
   "outputs": [],
   "source": []
  },
  {
   "cell_type": "code",
   "execution_count": null,
   "metadata": {},
   "outputs": [],
   "source": []
  },
  {
   "cell_type": "code",
   "execution_count": null,
   "metadata": {},
   "outputs": [],
   "source": []
  },
  {
   "cell_type": "code",
   "execution_count": null,
   "metadata": {},
   "outputs": [],
   "source": []
  },
  {
   "cell_type": "code",
   "execution_count": null,
   "metadata": {},
   "outputs": [],
   "source": []
  },
  {
   "cell_type": "code",
   "execution_count": null,
   "metadata": {},
   "outputs": [],
   "source": []
  },
  {
   "cell_type": "code",
   "execution_count": null,
   "metadata": {},
   "outputs": [],
   "source": []
  },
  {
   "cell_type": "code",
   "execution_count": null,
   "metadata": {},
   "outputs": [],
   "source": []
  },
  {
   "cell_type": "code",
   "execution_count": null,
   "metadata": {},
   "outputs": [],
   "source": []
  },
  {
   "cell_type": "code",
   "execution_count": null,
   "metadata": {},
   "outputs": [],
   "source": []
  },
  {
   "cell_type": "code",
   "execution_count": null,
   "metadata": {},
   "outputs": [],
   "source": []
  },
  {
   "cell_type": "code",
   "execution_count": null,
   "metadata": {},
   "outputs": [],
   "source": []
  },
  {
   "cell_type": "code",
   "execution_count": null,
   "metadata": {},
   "outputs": [],
   "source": []
  },
  {
   "cell_type": "code",
   "execution_count": null,
   "metadata": {},
   "outputs": [],
   "source": []
  }
 ],
 "metadata": {
  "kernelspec": {
   "display_name": "venv",
   "language": "python",
   "name": "python3"
  },
  "language_info": {
   "codemirror_mode": {
    "name": "ipython",
    "version": 3
   },
   "file_extension": ".py",
   "mimetype": "text/x-python",
   "name": "python",
   "nbconvert_exporter": "python",
   "pygments_lexer": "ipython3",
   "version": "3.12.0"
  }
 },
 "nbformat": 4,
 "nbformat_minor": 2
}
